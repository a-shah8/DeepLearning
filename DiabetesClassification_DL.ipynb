{
 "cells": [
  {
   "cell_type": "markdown",
   "metadata": {},
   "source": [
    "## Libraries"
   ]
  },
  {
   "cell_type": "code",
   "execution_count": null,
   "metadata": {
    "id": "0yCNoP6zHntx"
   },
   "outputs": [],
   "source": [
    "import numpy as np\n",
    "import pandas as pd\n",
    "import seaborn as sbn\n",
    "import matplotlib.pyplot as plt\n",
    "from sklearn.model_selection import train_test_split\n",
    "from sklearn.preprocessing import StandardScaler\n",
    "from sklearn.metrics import confusion_matrix\n",
    "\n",
    "import tensorflow as tf\n",
    "from tensorflow.keras.optimizers import Adam\n",
    "from tensorflow.keras.models import Sequential\n",
    "from tensorflow.keras.layers import Dense"
   ]
  },
  {
   "cell_type": "markdown",
   "metadata": {},
   "source": [
    "### Adding headers to the da"
   ]
  },
  {
   "cell_type": "code",
   "execution_count": null,
   "metadata": {
    "id": "bhSiK68-ISXD"
   },
   "outputs": [],
   "source": [
    "columns = ['Number of times pregnant', 'Plasma glucose', 'Diastolic blood pressure', 'Triceps skinfold thickness', \n",
    "           'Serum insulin', 'BMI', 'Diabetes pedigree function', 'Age', 'Class']\n",
    "\n",
    "data = pd.read_csv('#path to dataset', header=None)\n",
    "data.columns = columns"
   ]
  },
  {
   "cell_type": "markdown",
   "metadata": {},
   "source": [
    "### Statistics of the dataset used (pima-indian-diabetes)"
   ]
  },
  {
   "cell_type": "code",
   "execution_count": null,
   "metadata": {
    "colab": {
     "base_uri": "https://localhost:8080/",
     "height": 314
    },
    "id": "f54Bf7NCIj00",
    "outputId": "786fbfbc-8bf7-44c9-ab7c-7482f7c16ef4"
   },
   "outputs": [],
   "source": [
    "data.describe(include='all')"
   ]
  },
  {
   "cell_type": "markdown",
   "metadata": {},
   "source": [
    "### Seaborn heatmap displaying data correlation matrix"
   ]
  },
  {
   "cell_type": "code",
   "execution_count": null,
   "metadata": {
    "colab": {
     "base_uri": "https://localhost:8080/",
     "height": 412
    },
    "id": "yQXVO3UaK3JN",
    "outputId": "4ff8cc5c-1af9-4931-b653-72fc9bdc66b5"
   },
   "outputs": [],
   "source": [
    "sbn.heatmap(data.corr(), annot=True)"
   ]
  },
  {
   "cell_type": "markdown",
   "metadata": {},
   "source": [
    "### Creating copy of original dataset"
   ]
  },
  {
   "cell_type": "code",
   "execution_count": null,
   "metadata": {
    "id": "-jUXK4txMrsb"
   },
   "outputs": [],
   "source": [
    "data_copy = data.copy().to_numpy()"
   ]
  },
  {
   "cell_type": "code",
   "execution_count": null,
   "metadata": {
    "id": "2ir7rqrsM7Y0"
   },
   "outputs": [],
   "source": [
    "## Separating the labels from the dataset\n",
    "\n",
    "x = data_copy[:, 0:8]\n",
    "labels = data_copy[:, 8]\n",
    "\n",
    "## Split into train and test set\n",
    "train_x, test_x, train_y, test_y = train_test_split(x, labels, test_size=0.1, random_state=1)"
   ]
  },
  {
   "cell_type": "markdown",
   "metadata": {},
   "source": [
    "### Normalizing the data"
   ]
  },
  {
   "cell_type": "code",
   "execution_count": null,
   "metadata": {
    "id": "E3DJgTovNRnA"
   },
   "outputs": [],
   "source": [
    "standard_scalar = StandardScaler()\n",
    "train_x = standard_scalar.fit_transform(train_x)\n",
    "test_x = standard_scalar.transform(test_x)"
   ]
  },
  {
   "cell_type": "markdown",
   "metadata": {},
   "source": [
    "## Deep Learning Model"
   ]
  },
  {
   "cell_type": "code",
   "execution_count": null,
   "metadata": {
    "id": "m-AE92CnOSkV"
   },
   "outputs": [],
   "source": [
    "model = Sequential()\n",
    "model.add(Dense(16, input_dim=8, activation='relu', kernel_initializer='random_normal'))\n",
    "model.add(Dense(32, activation='relu', kernel_initializer='random_normal'))\n",
    "model.add(Dense(64, activation='relu', kernel_initializer='random_normal'))\n",
    "model.add(Dense(10, activation='relu', kernel_initializer='random_normal'))\n",
    "model.add(Dense(1, activation='sigmoid'))"
   ]
  },
  {
   "cell_type": "code",
   "execution_count": null,
   "metadata": {
    "id": "RpNGbeS8OWkl"
   },
   "outputs": [],
   "source": [
    "## Compiling the model\n",
    "\n",
    "model.compile(optimizer=tf.keras.optimizers.Adam(learning_rate=1e-4, beta_1=0.95), loss='binary_crossentropy', metrics=['accuracy'])"
   ]
  },
  {
   "cell_type": "markdown",
   "metadata": {},
   "source": [
    "### Training the model"
   ]
  },
  {
   "cell_type": "code",
   "execution_count": null,
   "metadata": {
    "colab": {
     "base_uri": "https://localhost:8080/"
    },
    "id": "y9Aqlt0JPeIw",
    "outputId": "7cdeaa87-20c3-4278-fb11-b82bf0efbb85"
   },
   "outputs": [],
   "source": [
    "## If you have GPU available,\n",
    "## uncomment the line below, and\n",
    "## indent the line after\n",
    "\n",
    "# with tf.device('/device:GPU:0'):\n",
    "model.fit(train_x, train_y, batch_size=16, epochs=300)"
   ]
  },
  {
   "cell_type": "markdown",
   "metadata": {},
   "source": [
    "## Making predictions\n",
    "\n",
    "Achieved Test Accuracy: 83.12%"
   ]
  },
  {
   "cell_type": "code",
   "execution_count": null,
   "metadata": {
    "colab": {
     "base_uri": "https://localhost:8080/"
    },
    "id": "uI-y7y7QQcl1",
    "outputId": "2f6e8b0e-9861-4567-a37f-fce0814e7979"
   },
   "outputs": [],
   "source": [
    "y_pred = (model.predict(test_x) > 0.5).astype(\"int32\")"
   ]
  },
  {
   "cell_type": "code",
   "execution_count": null,
   "metadata": {
    "colab": {
     "base_uri": "https://localhost:8080/"
    },
    "id": "ALTSUFSJQi3b",
    "outputId": "c3c475ec-b1fe-40c8-e121-60df167f0ede"
   },
   "outputs": [],
   "source": [
    "## Confusion matrix to calculate accuracy\n",
    "\n",
    "c_mat = confusion_matrix(test_y, y_pred)\n",
    "accuracy = ((c_mat[0][0]+c_mat[1][1])/len(test_y)) * 100"
   ]
  }
 ],
 "metadata": {
  "accelerator": "GPU",
  "colab": {
   "name": "Untitled5.ipynb",
   "provenance": []
  },
  "kernelspec": {
   "display_name": "Python 3",
   "language": "python",
   "name": "python3"
  },
  "language_info": {
   "codemirror_mode": {
    "name": "ipython",
    "version": 3
   },
   "file_extension": ".py",
   "mimetype": "text/x-python",
   "name": "python",
   "nbconvert_exporter": "python",
   "pygments_lexer": "ipython3",
   "version": "3.8.3"
  }
 },
 "nbformat": 4,
 "nbformat_minor": 1
}
