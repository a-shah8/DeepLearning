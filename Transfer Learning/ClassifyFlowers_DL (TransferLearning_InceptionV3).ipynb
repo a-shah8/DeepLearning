{
 "cells": [
  {
   "cell_type": "markdown",
   "metadata": {},
   "source": [
    "## Libraries"
   ]
  },
  {
   "cell_type": "code",
   "execution_count": null,
   "metadata": {},
   "outputs": [],
   "source": [
    "### Uncomment the next two lines to,\n",
    "### install tensorflow_hub and tensorflow datasets\n",
    "\n",
    "#!pip install tensorflow_hub\n",
    "#!pip install tensorflow_datasets"
   ]
  },
  {
   "cell_type": "code",
   "execution_count": null,
   "metadata": {
    "id": "S_s9IFg5hov-"
   },
   "outputs": [],
   "source": [
    "import numpy as np\n",
    "import tensorflow as tf\n",
    "import matplotlib.pyplot as plt\n",
    "\n",
    "import tensorflow_hub as hub\n",
    "import tensorflow_datasets as tfds\n",
    "\n",
    "from tensorflow.keras import layers"
   ]
  },
  {
   "cell_type": "markdown",
   "metadata": {},
   "source": [
    "### Download and Split data into Train and Validation"
   ]
  },
  {
   "cell_type": "code",
   "execution_count": null,
   "metadata": {
    "colab": {
     "base_uri": "https://localhost:8080/",
     "height": 222,
     "referenced_widgets": [
      "b3c0ccada0f1414cba3372f6cb3de658",
      "a47d8975fe624376860459d55a30dce3",
      "f9118d7f8a4d433281141f88951dc76d",
      "36752a0191a34efe8b84a3a407589a66",
      "97531c830587499fbb55db8433dfefec",
      "aa2844677c5947f9b065e31044fa2dfa",
      "d2b98d417f944fb2a77ce1ba3f3d8e7c",
      "55e7267518a04714a280f0249209ad3b"
     ]
    },
    "id": "yVA4HK5riPAD",
    "outputId": "867569cd-35e0-4a4c-d5ba-9b4e5411b9bb"
   },
   "outputs": [],
   "source": [
    "def get_data():\n",
    "    (train_set, validation_set), info = tfds.load(\n",
    "        'tf_flowers', \n",
    "        with_info=True, \n",
    "        as_supervised=True, \n",
    "        split=['train[:70%]', 'train[70%:]'],\n",
    "    )\n",
    "    \n",
    "    return train_set, validation_set, info\n",
    "\n",
    "train_set, validation_set, info = get_data()"
   ]
  },
  {
   "cell_type": "code",
   "execution_count": null,
   "metadata": {},
   "outputs": [],
   "source": [
    "num_examples = info.splits['train'].num_examples\n",
    "num_classes = info.features['label'].num_classes\n",
    "\n",
    "print('Total Number of Classes: {}'.format(num_classes))\n",
    "print('Total Number of Training Images: {}'.format(len(train_set)))\n",
    "print('Total Number of Validation Images: {} \\n'.format(len(validation_set)))"
   ]
  },
  {
   "cell_type": "code",
   "execution_count": null,
   "metadata": {
    "id": "Q-7FK2XHiTwC"
   },
   "outputs": [],
   "source": [
    "img_shape = 299\n",
    "batch_size = 32\n",
    "\n",
    "def format_image(image, label):\n",
    "    image = tf.image.resize(image, (img_shape, img_shape))/255.0\n",
    "    return image, label\n",
    "\n",
    "train_batches = train_set.shuffle(num_examples//4).map(format_image).batch(batch_size).prefetch(1)\n",
    "validation_batches = validation_set.map(format_image).batch(batch_size).prefetch(1)"
   ]
  },
  {
   "cell_type": "markdown",
   "metadata": {},
   "source": [
    "### Getting Inception model learned features"
   ]
  },
  {
   "cell_type": "code",
   "execution_count": null,
   "metadata": {
    "id": "P4NxPHGIiV1_"
   },
   "outputs": [],
   "source": [
    "def get_mobilenet_features():\n",
    "    URL = \"https://tfhub.dev/google/tf2-preview/inception_v3/feature_vector/4\"\n",
    "    global img_shape\n",
    "    feature_extractor = hub.KerasLayer(URL, input_shape=(img_shape, img_shape,3))\n",
    "    \n",
    "    return feature_extractor"
   ]
  },
  {
   "cell_type": "code",
   "execution_count": null,
   "metadata": {
    "id": "cQYw1t6kiYM-"
   },
   "outputs": [],
   "source": [
    "### Freezing the layers of transferred model (InceptionV3 Model)\n",
    "feature_extractor = get_mobilenet_features()\n",
    "feature_extractor.trainable = False"
   ]
  },
  {
   "cell_type": "markdown",
   "metadata": {},
   "source": [
    "## Deep Learning Model - Transfer Learning using InceptionV3"
   ]
  },
  {
   "cell_type": "code",
   "execution_count": null,
   "metadata": {
    "colab": {
     "base_uri": "https://localhost:8080/"
    },
    "id": "QusOju2EiZ6B",
    "outputId": "52ea3ad9-3086-4ae2-b557-4e388c179d76"
   },
   "outputs": [],
   "source": [
    "def create_transfer_learned_model(feature_extractor):\n",
    "    \n",
    "    global num_classes\n",
    "    model = tf.keras.Sequential([\n",
    "        feature_extractor, \n",
    "        tf.keras.layers.Dense(512, activation='relu'), \n",
    "        tf.keras.layers.Dropout(0.4),\n",
    "        layers.Dense(num_classes, activation='softmax')\n",
    "    ])\n",
    "\n",
    "    model.compile(\n",
    "        optimizer='adam', \n",
    "        loss=tf.keras.losses.SparseCategoricalCrossentropy(from_logits=True), \n",
    "        metrics=['accuracy'])\n",
    "\n",
    "    model.summary()\n",
    "    \n",
    "    return model"
   ]
  },
  {
   "cell_type": "markdown",
   "metadata": {},
   "source": [
    "### Training the last classification layer of the model"
   ]
  },
  {
   "cell_type": "markdown",
   "metadata": {},
   "source": [
    "Achieved Validation Accuracy: 92.10% (significant improvement over simple architecture)"
   ]
  },
  {
   "cell_type": "code",
   "execution_count": null,
   "metadata": {
    "colab": {
     "base_uri": "https://localhost:8080/"
    },
    "id": "83pzGcXjidUz",
    "outputId": "843994d2-a9cf-4685-8ae7-9995ad6b6135"
   },
   "outputs": [],
   "source": [
    "epochs = 10\n",
    "model = create_transfer_learned_model(feature_extractor)\n",
    "history = model.fit(train_batches,\n",
    "                    epochs=epochs,\n",
    "                    validation_data=validation_batches)"
   ]
  },
  {
   "cell_type": "markdown",
   "metadata": {},
   "source": [
    "### Plotting Accuracy and Loss Curves"
   ]
  },
  {
   "cell_type": "code",
   "execution_count": null,
   "metadata": {
    "colab": {
     "base_uri": "https://localhost:8080/",
     "height": 499
    },
    "id": "GLPdvPsNifk1",
    "outputId": "649a62c6-d7d0-48aa-e4a4-095e7f6a9ded"
   },
   "outputs": [],
   "source": [
    "def create_plots(history):\n",
    "    acc = history.history['accuracy']\n",
    "    val_acc = history.history['val_accuracy']\n",
    "\n",
    "    loss = history.history['loss']\n",
    "    val_loss = history.history['val_loss']\n",
    "\n",
    "    global epochs\n",
    "    epochs_range = range(epochs)\n",
    "\n",
    "    plt.figure(figsize=(8, 8))\n",
    "    plt.subplot(1, 2, 1)\n",
    "    plt.plot(epochs_range, acc, label='Training Accuracy')\n",
    "    plt.plot(epochs_range, val_acc, label='Validation Accuracy')\n",
    "    plt.legend(loc='lower right')\n",
    "    plt.title('Training and Validation Accuracy')\n",
    "\n",
    "    plt.subplot(1, 2, 2)\n",
    "    plt.plot(epochs_range, loss, label='Training Loss')\n",
    "    plt.plot(epochs_range, val_loss, label='Validation Loss')\n",
    "    plt.legend(loc='upper right')\n",
    "    plt.title('Training and Validation Loss')\n",
    "    plt.show()\n",
    "    \n",
    "create_plots(history)"
   ]
  },
  {
   "cell_type": "markdown",
   "metadata": {},
   "source": [
    "### Prediction"
   ]
  },
  {
   "cell_type": "code",
   "execution_count": null,
   "metadata": {
    "colab": {
     "base_uri": "https://localhost:8080/"
    },
    "id": "c8cT1Px4ij8q",
    "outputId": "b560b988-7574-4c1e-9a13-54ebf359099c"
   },
   "outputs": [],
   "source": [
    "def predict():\n",
    "    \n",
    "    global train_batches, info\n",
    "    \n",
    "    image_batch, label_batch = next(iter(train_batches.take(1)))\n",
    "    image_batch = image_batch.numpy()\n",
    "    label_batch = label_batch.numpy()\n",
    "\n",
    "    predicted_batch = model.predict(image_batch)\n",
    "    predicted_batch = tf.squeeze(predicted_batch).numpy()\n",
    "\n",
    "    class_names = np.array(info.features['label'].names)\n",
    "    predicted_ids = np.argmax(predicted_batch, axis=-1)\n",
    "    predicted_class_names = class_names[predicted_ids]\n",
    "    \n",
    "    return image_batch, label_batch, predicted_ids, predicted_class_names"
   ]
  },
  {
   "cell_type": "code",
   "execution_count": null,
   "metadata": {
    "colab": {
     "base_uri": "https://localhost:8080/"
    },
    "id": "vBfqgmfqimmS",
    "outputId": "f4e63615-e8c6-48ed-e611-9befb9b02696"
   },
   "outputs": [],
   "source": [
    "image_batch, label_batch, predicted_ids, predicted_class_names = predict()\n",
    "print(\"Labels: \", label_batch)\n",
    "print(\"Predicted labels: \", predicted_ids)"
   ]
  },
  {
   "cell_type": "code",
   "execution_count": null,
   "metadata": {
    "colab": {
     "base_uri": "https://localhost:8080/",
     "height": 585
    },
    "id": "nIG84z1minZv",
    "outputId": "de1f8817-0dab-46bb-a7dd-d65200b1e6ba"
   },
   "outputs": [],
   "source": [
    "def plot_figures():\n",
    "    \n",
    "    global image_batch, predicted_ids, label_batch\n",
    "    plt.figure(figsize=(10,9))\n",
    "    for n in range(30):\n",
    "        plt.subplot(6,5,n+1)\n",
    "        plt.subplots_adjust(hspace = 0.3)\n",
    "        plt.imshow(image_batch[n])\n",
    "        color = \"blue\" if predicted_ids[n] == label_batch[n] else \"red\"\n",
    "        plt.title(predicted_class_names[n].title(), color=color)\n",
    "        plt.axis('off')\n",
    "    _ = plt.suptitle(\"Model predictions (blue: correct, red: incorrect)\")\n",
    "    \n",
    "plot_figures()"
   ]
  }
 ],
 "metadata": {
  "accelerator": "GPU",
  "colab": {
   "name": "ClassifyFlowersDLTransferLearning.ipynb",
   "provenance": []
  },
  "kernelspec": {
   "display_name": "Python 3",
   "language": "python",
   "name": "python3"
  },
  "language_info": {
   "codemirror_mode": {
    "name": "ipython",
    "version": 3
   },
   "file_extension": ".py",
   "mimetype": "text/x-python",
   "name": "python",
   "nbconvert_exporter": "python",
   "pygments_lexer": "ipython3",
   "version": "3.8.3"
  }
 },
 "nbformat": 4,
 "nbformat_minor": 1
}
