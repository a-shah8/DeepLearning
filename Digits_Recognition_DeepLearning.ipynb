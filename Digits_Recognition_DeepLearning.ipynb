{
 "cells": [
  {
   "cell_type": "markdown",
   "metadata": {},
   "source": [
    "## Libraries"
   ]
  },
  {
   "cell_type": "code",
   "execution_count": null,
   "metadata": {
    "id": "29x-4Fk-Sb5N"
   },
   "outputs": [],
   "source": [
    "import keras\n",
    "import sklearn\n",
    "import tensorflow as tf\n",
    "import numpy as np\n",
    "from matplotlib import pyplot\n",
    "\n",
    "from sklearn.model_selection import train_test_split\n",
    "from tensorflow.keras.datasets import mnist\n",
    "from tensorflow.keras.utils import to_categorical\n",
    "from tensorflow.keras.models import Sequential\n",
    "from tensorflow.keras.layers import Conv2D, Flatten, MaxPooling2D, Dense\n",
    "from tensorflow.keras.optimizers import Adam\n",
    "from tensorflow.keras import initializers"
   ]
  },
  {
   "cell_type": "markdown",
   "metadata": {},
   "source": [
    "## MNIST Digit Recognition dataset"
   ]
  },
  {
   "cell_type": "code",
   "execution_count": null,
   "metadata": {
    "colab": {
     "base_uri": "https://localhost:8080/"
    },
    "id": "iLZG3khjSfG8",
    "outputId": "81ac48a9-a1a9-4654-980d-9b09128fb56d"
   },
   "outputs": [],
   "source": [
    "def data():\n",
    "    (train, train_l), (test, test_l) = mnist.load_data()\n",
    "    train = train.reshape((train.shape[0], 28, 28, 1))\n",
    "    test = test.reshape((test.shape[0], 28, 28, 1))\n",
    "    \n",
    "    # one-hot encoding the labels\n",
    "    train_l = to_categorical(train_l)\n",
    "    test_l = to_categorical(test_l)\n",
    "    \n",
    "    return train, train_l, test, test_l\n",
    "\n",
    "train, train_l, test, test_l = data()"
   ]
  },
  {
   "cell_type": "markdown",
   "metadata": {},
   "source": [
    "### Normalizing data"
   ]
  },
  {
   "cell_type": "code",
   "execution_count": null,
   "metadata": {
    "colab": {
     "base_uri": "https://localhost:8080/"
    },
    "id": "lm0_u1CsSilM",
    "outputId": "28f0afad-8aa3-4fc4-ef66-d0fb17103cd6"
   },
   "outputs": [],
   "source": [
    "def normalize(train, test):\n",
    "    train_n = train.astype('float32')\n",
    "    test_n = test.astype('float32')\n",
    "    \n",
    "    train_n = train_n / 255.0\n",
    "    test_n = test_n / 255.0\n",
    "    \n",
    "    return train_n, test_n\n",
    "\n",
    "train_n, test_n = normalize(train, test)"
   ]
  },
  {
   "cell_type": "markdown",
   "metadata": {},
   "source": [
    "## Deep Learning Model"
   ]
  },
  {
   "cell_type": "code",
   "execution_count": null,
   "metadata": {
    "id": "f1f5HRKwSmPm"
   },
   "outputs": [],
   "source": [
    "def create_model():\n",
    "    model = Sequential()\n",
    "    model.add(Conv2D(32, (3, 3), activation='relu', kernel_initializer='he_uniform', input_shape=(28, 28, 1)))\n",
    "    model.add(MaxPooling2D(2, 2))\n",
    "    model.add(Conv2D(64, (3, 3), activation='relu', kernel_initializer='he_uniform'))\n",
    "    model.add(Conv2D(128, (3, 3), activation='relu', kernel_initializer='he_uniform'))\n",
    "    model.add(MaxPooling2D(2, 2))\n",
    "    model.add(Flatten())\n",
    "    model.add(Dense(100, activation='relu', kernel_initializer='he_uniform'))\n",
    "    model.add(Dense(10, activation='softmax'))\n",
    "    \n",
    "    model.compile(optimizer=Adam(lr=1e-4, beta_1=0.9), loss='categorical_crossentropy', metrics=['accuracy'])\n",
    "    \n",
    "    return model"
   ]
  },
  {
   "cell_type": "markdown",
   "metadata": {},
   "source": [
    "### Training and Evaluating"
   ]
  },
  {
   "cell_type": "code",
   "execution_count": null,
   "metadata": {
    "id": "6_yyMu01SoQb"
   },
   "outputs": [],
   "source": [
    "def train_and_evaluate_model(train_n, train_l, test_n, test_l):\n",
    "    \n",
    "    model = create_model()\n",
    "    train_set, val_set, train_set_l, val_set_l = train_test_split(train_n, train_l, test_size=0.1, random_state=1)\n",
    "        \n",
    "    history = model.fit(train_set, train_set_l,\n",
    "                        epochs=60,\n",
    "                        batch_size=256,\n",
    "                        validation_data=(val_set, val_set_l), verbose=1)\n",
    "    _, acc = model.evaluate(test_n, test_l, verbose=0)\n",
    "    print(\"Test accuracy: %.3f\" % (acc * 100.0))\n",
    "        \n",
    "    return acc, history"
   ]
  },
  {
   "cell_type": "markdown",
   "metadata": {},
   "source": [
    "### Loss and Accuracy curves for Training and Validation"
   ]
  },
  {
   "cell_type": "code",
   "execution_count": null,
   "metadata": {
    "id": "GY-zRKLqSq6-"
   },
   "outputs": [],
   "source": [
    "def learning_curves(history):\n",
    "    \n",
    "    pyplot.subplot(1, 2, 1)\n",
    "    pyplot.title('Cross Entropy Loss')\n",
    "    pyplot.plot(history.history['loss'], color='blue', label='train')\n",
    "    pyplot.plot(history.history['val_loss'], color='orange', label='validation')\n",
    "    pyplot.legend()\n",
    "\n",
    "    pyplot.subplot(1, 2, 2)\n",
    "    pyplot.title('Classification Accuracy')\n",
    "    pyplot.plot(history.history['accuracy'], color='blue', label='train')\n",
    "    pyplot.plot(history.history['val_accuracy'], color='orange', label='validation')\n",
    "    pyplot.legend()\n",
    "        \n",
    "    pyplot.show()"
   ]
  },
  {
   "cell_type": "code",
   "execution_count": null,
   "metadata": {
    "id": "n9hbr5bHStEW"
   },
   "outputs": [],
   "source": [
    "def run_test(train_n, train_l, test_n, test_l):\n",
    "    accuracy, history = train_and_evaluate_model(train_n, train_l, test, test_l)\n",
    "    learning_curves(history)"
   ]
  },
  {
   "cell_type": "markdown",
   "metadata": {},
   "source": [
    "Achieved Test Accuracy: 99.140%"
   ]
  },
  {
   "cell_type": "code",
   "execution_count": null,
   "metadata": {
    "colab": {
     "base_uri": "https://localhost:8080/",
     "height": 1000
    },
    "id": "n_Xea6d8Svdw",
    "outputId": "745162d8-7c37-42e5-e187-abdabb10c900"
   },
   "outputs": [],
   "source": [
    "## If you have GPU available,\n",
    "## uncomment the line below, and\n",
    "## indent the line after\n",
    "\n",
    "# with tf.device('/device:GPU:0'):\n",
    "run_test(train_n, train_l, test_n, test_l)"
   ]
  }
 ],
 "metadata": {
  "accelerator": "GPU",
  "colab": {
   "name": "Digits_Recognition_DeepLearning.ipynb",
   "provenance": []
  },
  "kernelspec": {
   "display_name": "Python 3",
   "language": "python",
   "name": "python3"
  },
  "language_info": {
   "codemirror_mode": {
    "name": "ipython",
    "version": 3
   },
   "file_extension": ".py",
   "mimetype": "text/x-python",
   "name": "python",
   "nbconvert_exporter": "python",
   "pygments_lexer": "ipython3",
   "version": "3.8.3"
  }
 },
 "nbformat": 4,
 "nbformat_minor": 1
}
